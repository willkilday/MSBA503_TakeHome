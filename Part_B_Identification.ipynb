{
 "cells": [
  {
   "cell_type": "code",
   "execution_count": 10,
   "id": "4dc6fc8c-fac2-4427-9115-3a8a5f336e14",
   "metadata": {},
   "outputs": [
    {
     "name": "stdout",
     "output_type": "stream",
     "text": [
      "Requirement already satisfied: requests in c:\\users\\13604\\anaconda3\\lib\\site-packages (2.32.2)\n",
      "Requirement already satisfied: charset-normalizer<4,>=2 in c:\\users\\13604\\anaconda3\\lib\\site-packages (from requests) (2.0.4)\n",
      "Requirement already satisfied: idna<4,>=2.5 in c:\\users\\13604\\anaconda3\\lib\\site-packages (from requests) (3.7)\n",
      "Requirement already satisfied: urllib3<3,>=1.21.1 in c:\\users\\13604\\anaconda3\\lib\\site-packages (from requests) (2.2.2)\n",
      "Requirement already satisfied: certifi>=2017.4.17 in c:\\users\\13604\\anaconda3\\lib\\site-packages (from requests) (2024.7.4)\n"
     ]
    }
   ],
   "source": [
    "!pip install requests\n",
    "\n"
   ]
  },
  {
   "cell_type": "code",
   "execution_count": 12,
   "id": "2bbcdda3-3ec5-438c-81a0-3a81d16cc030",
   "metadata": {},
   "outputs": [],
   "source": [
    "import requests\n",
    "\n",
    "# URL containing the ImageNet class labels\n",
    "url = 'https://storage.googleapis.com/download.tensorflow.org/data/imagenet_class_index.json'\n",
    "\n",
    "# Fetch the class labels\n",
    "response = requests.get(url)\n",
    "if response.status_code == 200:\n",
    "    imagenet_classes = response.json()\n",
    "    # Convert indices to class names\n",
    "    class_names = [imagenet_classes[str(i)][1] for i in range(len(imagenet_classes))]\n",
    "else:\n",
    "    print(\"Failed to download class names\")\n"
   ]
  },
  {
   "cell_type": "code",
   "execution_count": 40,
   "id": "f574db53-86b2-40b0-a56a-a76bc85084dd",
   "metadata": {
    "scrolled": true
   },
   "outputs": [
    {
     "name": "stdout",
     "output_type": "stream",
     "text": [
      "whippet 0.27037468552589417\n",
      "Scottish_deerhound 0.028865933418273926\n",
      "Saluki 0.027352381497621536\n",
      "Irish_wolfhound 0.021740121766924858\n",
      "Ibizan_hound 0.012514493428170681\n"
     ]
    }
   ],
   "source": [
    "import torch\n",
    "from torchvision import models, transforms\n",
    "from torchvision.models.resnet import ResNet50_Weights\n",
    "from PIL import Image\n",
    "\n",
    "# Load the pre-trained model\n",
    "weights = ResNet50_Weights.DEFAULT\n",
    "model = models.resnet50(weights=weights)\n",
    "model.eval()\n",
    "\n",
    "# Load and prepare your image\n",
    "image_path = 'greyhound.jpg'\n",
    "image = Image.open(image_path)\n",
    "transform = transforms.Compose([\n",
    "    transforms.Resize((256, 256)),\n",
    "    transforms.ToTensor(),\n",
    "])\n",
    "input_tensor = transform(image)\n",
    "input_tensor = input_tensor.unsqueeze(0)  # Create a mini-batch as expected by the model\n",
    "\n",
    "# Perform inference\n",
    "with torch.no_grad():\n",
    "    output = model(input_tensor)\n",
    "\n",
    "# Assuming 'class_names' is loaded from the above code\n",
    "probabilities = torch.nn.functional.softmax(output[0], dim=0)\n",
    "top5_prob, top5_catid = torch.topk(probabilities, 5)\n",
    "for i in range(top5_prob.size(0)):\n",
    "    print(class_names[top5_catid[i]], top5_prob[i].item())\n"
   ]
  },
  {
   "cell_type": "code",
   "execution_count": null,
   "id": "0dcd301c-b521-478a-a82b-73184c52549b",
   "metadata": {},
   "outputs": [],
   "source": []
  }
 ],
 "metadata": {
  "kernelspec": {
   "display_name": "Python 3 (ipykernel)",
   "language": "python",
   "name": "python3"
  },
  "language_info": {
   "codemirror_mode": {
    "name": "ipython",
    "version": 3
   },
   "file_extension": ".py",
   "mimetype": "text/x-python",
   "name": "python",
   "nbconvert_exporter": "python",
   "pygments_lexer": "ipython3",
   "version": "3.12.4"
  }
 },
 "nbformat": 4,
 "nbformat_minor": 5
}
